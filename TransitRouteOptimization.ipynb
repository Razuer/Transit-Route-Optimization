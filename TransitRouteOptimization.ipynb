{
 "cells": [
  {
   "attachments": {},
   "cell_type": "markdown",
   "metadata": {},
   "source": [
    "### Importy, dekorator do mierzenia czasu oraz podstawowa data używana przy odczytywaniu danych"
   ]
  },
  {
   "cell_type": "code",
   "execution_count": 2,
   "metadata": {},
   "outputs": [],
   "source": [
    "from datetime import datetime, timedelta\n",
    "import csv\n",
    "from math import radians, sin, cos, atan2, sqrt\n",
    "from collections import namedtuple\n",
    "from itertools import count\n",
    "from heapq import heappush, heappop\n",
    "import sys\n",
    "\n",
    "from timeit import default_timer as timer\n",
    "\n",
    "def timer_func(func):\n",
    "    def wrapper(*args, **kwargs):\n",
    "        t1 = timer()\n",
    "        result = func(*args, **kwargs)\n",
    "        t2 = timer()\n",
    "        print(f'{func.__name__}() executed in {(t2-t1):.6f}s\\n')\n",
    "        return result\n",
    "    return wrapper\n",
    "\n",
    "base_date = datetime.strptime('2024-03-08', '%Y-%m-%d')"
   ]
  },
  {
   "attachments": {},
   "cell_type": "markdown",
   "metadata": {},
   "source": [
    "---"
   ]
  },
  {
   "attachments": {},
   "cell_type": "markdown",
   "metadata": {},
   "source": [
    "# Moja struktura grafu skierowanego\n",
    "\n",
    "Struktura składa się z trzech głównych klas:\n",
    "\n",
    "1. **Node**: Reprezentuje węzeł grafu, który jest przystankiem komunikacyjnym. Posiada nazwę, szerokość geograficzną, długość geograficzną oraz słownik krawędzi, które łączą ten węzeł z innymi węzłami. Metoda `add_edge` dodaje nową krawędź do węzła.\n",
    "\n",
    "2. **Edge**: Reprezentuje krawędź grafu, która łączy dwa węzły (przystanki komunikacyjne). Zawiera informacje o czasie podróży, odległości, linii komunikacyjnej itp. Krawędź zawierać różne czasy podróży w liście jako krotki, ponieważ istnieje kilka takich samych kursów, ale o innej godzinie. Zaimplementowane są metody, takie jak `add_travel_time` oraz `find_fastest_departure`, które pomagają w znajdowaniu najszybszego terminu podróży.\n",
    "\n",
    "3. **ConnectionGraph**: Reprezentuje graf połączeń komunikacyjnych. Wczytuje dane z pliku CSV, tworzy węzły i krawędzie, a następnie wyświetla informacje o utworzonym grafie. W pliku `connection_graph.csv` istnieje kilkadziesiąt przystanków o takiej samej nazwie, różniącej się jedynie koordynatami. Zależało mi bardzo na wykorzystaniu słowników, dlatego wybrałem drogę, aby brać pod uwagę tylko pierwszy przystanek o danej nazwie, a resztę odrzucać. Oprócz tego isnieje kilka połączeń od tego przystanku o tej samej nazwie do przystanku również o tej nazwie. Przez moje wcześniej opisane podejście powodowało to pewne komplikacje związane z liczeniem odległości pomiędzy przystankami, z tego powodu postanowiłem również nie brać takich połączeń pod uwagę. Dodatkowo w celach czysto statystycznych przetrzymuję wszystkie krawędzie w liście `edges`.\n",
    "\n",
    "Cała implementacja jest oparta na słownikach, co pozwala na efektywne przeszukiwanie grafu i operacje na węzłach oraz krawędziach. Dodatkowo, kod zawiera funkcję `parse_custom_time`, która parsuje niestandardowe formaty czasu (godziny nocne, a ponieważ korzystam z obiektów datetime zamieniam ja na normalne godziny nocne kolejnego dnia) oraz funkcję `distance`, która oblicza odległość między dwoma węzłami na sferze ziemskiej przy użyciu wzoru Haversine'a, który swoją drogą zapewnia bardzo zadowalające rezultaty. Wyniki te są w metrach.\n",
    "\n",
    "Po krótce: posiadam graf, który posiada węzły w słowniku, a każdy węzeł posiada krawędzie również w słowniku, prowadzące do innych węzłów itd."
   ]
  },
  {
   "cell_type": "code",
   "execution_count": 3,
   "metadata": {},
   "outputs": [],
   "source": [
    "class Node:\n",
    "    def __init__(self, name, lat, lon):\n",
    "        self.name = name\n",
    "        self.lat = lat\n",
    "        self.lon = lon\n",
    "        self.edges = {}\n",
    "\n",
    "    def __str__(self) -> str:\n",
    "        return f'{self.name}: {self.lat}, {self.lon}, {len(self.edges)} połączeń.'\n",
    "    \n",
    "    def add_edge(self, edge):\n",
    "        if edge.start_node == self:\n",
    "            if edge.end_node in self.edges:\n",
    "                self.edges[edge.end_node].add_travel_time(edge)\n",
    "            else:\n",
    "                self.edges[edge.end_node] = edge\n",
    "\n",
    "class Edge:\n",
    "    def __init__(self, start_node : Node, end_node : Node, departure_time, arrival_time, line):\n",
    "        self.start_node : Node = start_node\n",
    "        self.end_node : Node = end_node\n",
    "        self.travel_times = [(departure_time, arrival_time)]\n",
    "        self.distance = distance(self.start_node, self.end_node)\n",
    "        self.line = line\n",
    "\n",
    "    def __str__(self):\n",
    "        travel_info = f\"    -> {self.end_node.name}:\\n\"\n",
    "        for departure_time, arrival_time in self.travel_times:\n",
    "            travel_info += f\"        ({departure_time.strftime('%H:%M:%S')}) -> ({arrival_time.strftime('%H:%M:%S')}) - linia {self.line}\\n\"\n",
    "        return travel_info.strip()\n",
    "    \n",
    "    def add_travel_time(self, departure_time : datetime, arrival_time: datetime):\n",
    "        self.travel_times.append((departure_time, arrival_time))\n",
    "\n",
    "    def add_travel_time(self, edge):\n",
    "        self.travel_times.append((edge.travel_times[0]))\n",
    "    \n",
    "    def find_fastest_departure(self, target_time):\n",
    "        fastest_departure = min((x for x in self.travel_times if x[0] > target_time), key=lambda x: abs(x[0] - target_time), default=None)\n",
    "        return fastest_departure\n",
    "    \n",
    "    def find_fastest_departure_index(self, target_time):\n",
    "        closest_index = None\n",
    "        closest_time_difference = None\n",
    "\n",
    "        for i, (departure_time, _) in enumerate(self.travel_times):\n",
    "            if departure_time <= target_time:\n",
    "                departure_time += timedelta(days=1)\n",
    "                \n",
    "            time_difference = abs(departure_time - target_time)\n",
    "            if closest_time_difference is None or time_difference < closest_time_difference:\n",
    "                closest_index = i\n",
    "                closest_time_difference = time_difference\n",
    "                \n",
    "\n",
    "        return closest_index\n",
    "    \n",
    "    def find_nearest_departure_index(self, target_time):\n",
    "        filtered_travel_times = [(i, x) for i, x in enumerate(self.travel_times) if x[0] > target_time]\n",
    "        if not filtered_travel_times:\n",
    "            return None\n",
    "        nearest_departure_index = min(filtered_travel_times, key=lambda x: abs(x[1][0] - target_time))[0]\n",
    "        return nearest_departure_index\n",
    "    \n",
    "    def find_nearest_departure_index2(self, target_time):\n",
    "        filtered_travel_times = [(i, x) for i, x in enumerate(self.travel_times)]\n",
    "        # Dodanie 24 godzin do czasów wyjazdu, które są mniejsze niż podana godzina\n",
    "        filtered_travel_times = [(i, (dep + timedelta(days=1), arr)) if dep < target_time else (i, (dep, arr)) for i, (dep, arr) in filtered_travel_times]\n",
    "        nearest_departure_index = min(filtered_travel_times, key=lambda x: abs(x[1][0] - target_time))[0]\n",
    "        return nearest_departure_index\n",
    "\n",
    "class ConnectionGraph:\n",
    "    def __init__(self, filename):\n",
    "        self.nodes = {}\n",
    "        self.edges = []\n",
    "\n",
    "        with open(filename, 'r', encoding=\"utf8\") as csvfile:\n",
    "            reader = csv.reader(csvfile, delimiter=\",\")\n",
    "            next(reader, None)\n",
    "\n",
    "            for row in reader:\n",
    "                _, _, line, _, _, start_stop, end_stop, start_stop_lat, start_stop_lon, end_stop_lat, end_stop_lon = row\n",
    "\n",
    "                if start_stop not in self.nodes:\n",
    "                    self.nodes[start_stop] = Node(start_stop, float(start_stop_lat), float(start_stop_lon))\n",
    "                if end_stop not in self.nodes:\n",
    "                    self.nodes[end_stop] = Node(end_stop, float(end_stop_lat), float(end_stop_lon))\n",
    "\n",
    "                parsed_departure = parse_custom_time(row[3])\n",
    "                parsed_arrival = parse_custom_time(row[4])\n",
    "\n",
    "                # Utworzenie krawędzi\n",
    "                new_edge = Edge(\n",
    "                    self.nodes[start_stop],\n",
    "                    self.nodes[end_stop],\n",
    "                    parsed_departure,\n",
    "                    parsed_arrival,\n",
    "                    line\n",
    "                )\n",
    "\n",
    "                if(start_stop != end_stop):\n",
    "                    self.edges.append(new_edge)\n",
    "                    self.nodes[start_stop].add_edge(new_edge)\n",
    "\n",
    "        # Wyświetlenie informacji o grafie\n",
    "        print(f\"Utworzono graf z pliku {filename}:\")\n",
    "        print(f\"Liczba węzłów: {len(self.nodes)}\")\n",
    "        print(f\"Liczba krawędzi: {len(self.edges)}\")\n",
    "\n",
    "def parse_custom_time(time_str):\n",
    "    hour, minute, second = map(int, time_str.split(':'))\n",
    "    if hour >= 24:\n",
    "        hour -= 24\n",
    "        return base_date + timedelta(days=1, hours=hour, minutes=minute, seconds=second)\n",
    "    else:\n",
    "        return base_date + timedelta(hours=hour, minutes=minute, seconds=second)\n",
    "    \n",
    "def distance(start_node : Node, end_node : Node):\n",
    "\n",
    "    start_lat = start_node.lat\n",
    "    start_lon = start_node.lon\n",
    "    end_lat =  end_node.lat\n",
    "    end_lon = end_node.lon\n",
    "\n",
    "    lat1 = radians(start_lat)\n",
    "    lat2 = radians(end_lat)\n",
    "\n",
    "    # Wzór Haversine'a\n",
    "    dlat = radians(end_lat - start_lat)\n",
    "    dlon = radians(end_lon - start_lon)\n",
    "\n",
    "    a = sin(dlat/2)**2 + cos(lat1) * cos(lat2) * sin(dlon/2)**2\n",
    "    c = 2 * atan2(sqrt(a), sqrt(1-a))\n",
    "\n",
    "\n",
    "    # Promień Ziemi w m\n",
    "    earth_radius = 6371e3\n",
    "\n",
    "    return c * earth_radius"
   ]
  },
  {
   "attachments": {},
   "cell_type": "markdown",
   "metadata": {},
   "source": [
    "## Odczytanie danych\n",
    "\n",
    "Utworzony graf przypisujemy do zmiennej `graph`. Samo jego tworzenie trwa zaledwie 7s, co wydaje się być dobrym wynikiem. Możemy zauważyć, że przechowujemy 939 węzłów, a także aż 982847 krawędzi."
   ]
  },
  {
   "cell_type": "code",
   "execution_count": 4,
   "metadata": {},
   "outputs": [
    {
     "name": "stdout",
     "output_type": "stream",
     "text": [
      "Utworzono graf z pliku connection_graph.csv:\n",
      "Liczba węzłów: 939\n",
      "Liczba krawędzi: 982847\n"
     ]
    }
   ],
   "source": [
    "graph = ConnectionGraph('connection_graph.csv')"
   ]
  },
  {
   "attachments": {},
   "cell_type": "markdown",
   "metadata": {},
   "source": [
    "### Sprawdzenie danych\n",
    "Jeżeli chodzi o `odległość` między przystankami to postanowiłem użyć metrów jako głównej jednostki, co również wpłynie na późniejsze funkcje heurystyczne."
   ]
  },
  {
   "cell_type": "code",
   "execution_count": 5,
   "metadata": {},
   "outputs": [
    {
     "data": {
      "text/plain": [
       "7699.689400956747"
      ]
     },
     "execution_count": 5,
     "metadata": {},
     "output_type": "execute_result"
    }
   ],
   "source": [
    "distance(start_node=graph.nodes['Armii Krajowej'], end_node=graph.nodes['AUCHAN'])"
   ]
  },
  {
   "cell_type": "code",
   "execution_count": 6,
   "metadata": {},
   "outputs": [
    {
     "name": "stdout",
     "output_type": "stream",
     "text": [
      "8 Maja: 51.11366919, 17.09111971, 4 połączeń.\n",
      "-> Wilkszyn - Miłoszyn:\n",
      "        (13:34:00) -> (13:35:00) - linia 923\n"
     ]
    }
   ],
   "source": [
    "print(graph.nodes[\"8 Maja\"])\n",
    "print(graph.edges[962000])"
   ]
  },
  {
   "attachments": {},
   "cell_type": "markdown",
   "metadata": {},
   "source": [
    "---"
   ]
  },
  {
   "attachments": {},
   "cell_type": "markdown",
   "metadata": {},
   "source": [
    "# Implementacja algorytmu\n",
    "\n",
    "Postanowiłem napisać jedną metodę do wszystkiego - tzn. posiada ona możliwość uruchomienia algorytmu Dijkstry w oparciu o kryterium czasu lub przesiadek, a także A* poprzez dodanie w parametrze funkcji heurystycznej. Dzięki temu metoda ta jest bardzo elastyczna i pozwala na poszukiwanie najbardziej optymalnych parametrów. Jego działanie jest dość proste i dzięki wykorzystaniu w moim grafie słowników dość wydajne. Struktura algorytmu została opisana poniżej w zakomentowanych linijkach. Do funkcji podpiąłem również wcześniej utworzony dekorator, który umożliwi dokładne liczenie czasu wykonywania.\n",
    "\n",
    "Problematyczne okazało się przechowywanie w każdym `Node` listy różnych odjazdów - przez to byłem zmuszony zapisywać za każdym razem również indeks konkretnej krotki z czasami jazdy. Być może wpłynęło to trochę na wydajność, ale również dzięki temu słownik przystanków nie jest ogromny. Oprócz tego zamiast wyszukiwać i sprawdzać każdego połączenia o każdej godzinie postanowiłem napisać funkcję `find_nearest_departure_index2`, która znajduje się w klasie krawędzi. Pozwala ona pobrać najbliższy odjazd dla podanej godziny, dzięki temu biorę pod uwagę jedynie jeden termin odjazdu i oszczędzam czas na sprawdzaniu pozostałych. Funkcja ta również w przypadku, gdy nie odnajdzie najbliższego odjazdu (ze względu na dane w `connection_graph` i ograniczeniu na jeden dzień) dodaje do każego odjazdu 24h, dzięki czmeu możemy brać pod uwagę odjazdy z kolejnego dnia.\n",
    "\n",
    "Ogólny zarys algorytmu zaczerpnąłem z biblioteki [`Dijkstar`](https://pypi.org/project/Dijkstar/), który następnie przystosowałem pod moje wymagania i strukturę moich danych - co spowodowało pełną modyfikację tejże biblioteki. Było to spowodowane różnymi godzinami różnych przystanków i krawędzi oraz generalnej struktury grafu."
   ]
  },
  {
   "cell_type": "code",
   "execution_count": 7,
   "metadata": {},
   "outputs": [],
   "source": [
    "@timer_func\n",
    "def shortest_path_algorithm(\n",
    "        graph : ConnectionGraph, s : Node, d : Node, start_time, cost_fun = None, cost_fun2 = None, cost_fun3 = None, heuristic_func=None):\n",
    "    \n",
    "    counter = count()\n",
    "\n",
    "    # Słownik aktualnie poznanych kosztów od s do wszystkich przystanków, do których póki co dotarliśmy.\n",
    "    costs = {s: 0}\n",
    "\n",
    "    #    ReachedNode          Edge         Cost\n",
    "    #              |  PrevNode |  Index     |\n",
    "    #              |    |      |     |      |\n",
    "    #              \\/   \\/     \\/    \\/    \\/\n",
    "    predecessors = {s: (None, None, None, None)}\n",
    "\n",
    "    # Kolejka priorytetowa przystanków, które poznaliśmy, ze znanym kosztem, ale których jeszcze nie odwiedziliśmy.\n",
    "    visit_queue = [(0, next(counter), s)]\n",
    "\n",
    "    # Odzwiedzone przystanki, czyli takie, które zostały wybrane, ze względu na najniższy koszt\n",
    "    visited = set()\n",
    "\n",
    "    current_time = start_time\n",
    "\n",
    "    while visit_queue:\n",
    "    \n",
    "        cost_of_s_to_u, _, u = heappop(visit_queue)\n",
    "\n",
    "        if u == d:\n",
    "            break\n",
    "\n",
    "        if u in visited:\n",
    "            continue\n",
    "\n",
    "        visited.add(u)\n",
    "        \n",
    "        neighbors = u.edges if u.name in graph.nodes else None\n",
    "\n",
    "        if not neighbors:\n",
    "            continue\n",
    "\n",
    "        _, prev_e, prev_id, _ = predecessors[u]\n",
    "\n",
    "        if(prev_id):\n",
    "            current_time = prev_e.travel_times[prev_id][1]\n",
    "\n",
    "        for v in neighbors:\n",
    "            if v in visited:\n",
    "                continue\n",
    "\n",
    "            e : Edge = neighbors[v]\n",
    "            id = e.find_nearest_departure_index2(current_time)\n",
    "\n",
    "            if not id:\n",
    "                continue\n",
    "            \n",
    "            cost_of_e = 0\n",
    "\n",
    "            if cost_fun:\n",
    "                cost = cost_fun(u, v, e, id, prev_e, prev_id, current_time)\n",
    "                cost_of_e += cost\n",
    "\n",
    "            if cost_fun2:\n",
    "                cost = cost_fun2(u, v, e, id, prev_e, prev_id, current_time)\n",
    "                cost_of_e += cost\n",
    "\n",
    "            if cost_fun3:\n",
    "                cost = cost_fun3(u, v, e, id, prev_e, prev_id, current_time)\n",
    "                cost_of_e += cost\n",
    "\n",
    "            # Koszt od s do u oraz nowo obliczony koszt od u do v\n",
    "            cost_of_s_to_u_plus_cost_of_e = cost_of_s_to_u + cost_of_e\n",
    "\n",
    "            if heuristic_func:\n",
    "                additional_cost = int(heuristic_func(u, v, e, id, prev_e, prev_id, current_time))\n",
    "                cost_of_s_to_u_plus_cost_of_e += additional_cost\n",
    "\n",
    "            if v not in costs or costs[v] > cost_of_s_to_u_plus_cost_of_e:\n",
    "                costs[v] = cost_of_s_to_u_plus_cost_of_e\n",
    "                predecessors[v] = (u, e, id, cost_of_e)\n",
    "                heappush(visit_queue, (cost_of_s_to_u_plus_cost_of_e, next(counter), v))\n",
    "\n",
    "    if d is not None and d not in costs:\n",
    "        print(f\"Could not find a path from {s} to {d}\")\n",
    "        return\n",
    "\n",
    "    return predecessors\n",
    "\n",
    "\n",
    "def print_shortest_path_from_predecessor(predecessors, start_time, d, debug = False):\n",
    "    nodes = [d]\n",
    "    edges_id = []\n",
    "    costs = []\n",
    "    u, e, id, cost = predecessors[d]\n",
    "    arrival_time = e.travel_times[id][1]\n",
    "    while u is not None:\n",
    "        nodes.append(u)\n",
    "        edges_id.append((e, id))\n",
    "        costs.append(cost)\n",
    "        u, e, id, cost = predecessors[u]\n",
    "    nodes.reverse()\n",
    "    edges_id.reverse()\n",
    "    costs.reverse()\n",
    "    total_cost = sum(costs)\n",
    "\n",
    "    if(debug):\n",
    "        debug_print_path(edges_id, costs, total_cost, start_time, arrival_time)\n",
    "    else:\n",
    "        print_path(edges_id, costs, total_cost, start_time, arrival_time)\n",
    "\n",
    "def debug_print_path(edges_id, costs, total_cost, start_time, arrival_time):\n",
    "    for i, edge_id in enumerate(edges_id):\n",
    "        print(f\"Line {edge_id[0].line}: {edge_id[0].start_node.name} ({edge_id[0].travel_times[edge_id[1]][0]}) -> {edge_id[0].end_node.name} ({edge_id[0].travel_times[edge_id[1]][1]}) cost={costs[i]}\")\n",
    "\n",
    "    print(f\"Total cost: {total_cost}\")\n",
    "    print(f\"Total time: {arrival_time - start_time}\")\n",
    "\n",
    "def print_path(edges_id, costs, total_cost, start_time, arrival_time):\n",
    "    prev_line = None\n",
    "    prev_edge_id = None\n",
    "\n",
    "    transfers_count = 0\n",
    "\n",
    "    for i, edge_id in enumerate(edges_id):\n",
    "        if(prev_line != edge_id[0].line):\n",
    "            if (prev_line):\n",
    "                print(f\" -> {prev_edge_id[0].end_node.name} ({prev_edge_id[0].travel_times[prev_edge_id[1]][1]})\")\n",
    "            print(f\"Line {edge_id[0].line}: {edge_id[0].start_node.name} ({edge_id[0].travel_times[edge_id[1]][0]})\", end=\"\")\n",
    "            transfers_count+=1\n",
    "        if (i == len(edges_id)-1):\n",
    "            print(f\" -> {edge_id[0].end_node.name} ({edge_id[0].travel_times[edge_id[1]][1]})\")\n",
    "        \n",
    "        prev_edge_id = edge_id\n",
    "        prev_line = edge_id[0].line\n",
    "    print(f\"\\nTotal cost: {total_cost}\", file=sys.stderr)\n",
    "    print(f\"Total time: {arrival_time - start_time}\", file=sys.stderr)\n",
    "    print(f\"Total stops: {len(edges_id)}\", file=sys.stderr)\n",
    "    print(f\"Total transfers: {transfers_count-1}\", file=sys.stderr)\n",
    "\n",
    "def find_path(graph, s : Node, d : Node, start_time, cost_fun = None, cost_fun2 = None, cost_fun3 = None, heuristic_func=None, debug = False):\n",
    "    predecessors = shortest_path_algorithm(graph, s, d, start_time, cost_fun, cost_fun2, cost_fun3, heuristic_func=heuristic_func)\n",
    "    if predecessors:\n",
    "        print_shortest_path_from_predecessor(predecessors, start_time, d, debug)"
   ]
  },
  {
   "attachments": {},
   "cell_type": "markdown",
   "metadata": {},
   "source": [
    "## Funkcje kosztu oraz heurystyczne\n",
    "\n",
    "Jak już wcześniej wspomniałem metoda dzięki parametryzacji jest bardzo elastyczna, a to pozwala na używanie różnych funkcji. Poniżej przykładowe funkcje:"
   ]
  },
  {
   "cell_type": "code",
   "execution_count": 8,
   "metadata": {},
   "outputs": [],
   "source": [
    "def time_cost_func(u, v, e, id, prev_e, prev_id, current_time):\n",
    "    cost_of_e = e.travel_times[id][1] - current_time\n",
    "    if cost_of_e < timedelta():\n",
    "        cost_of_e += timedelta(days=1)\n",
    "\n",
    "    return cost_of_e.seconds\n",
    "\n",
    "def transfer_cost_func(u, v, e, id, prev_e, prev_id, current_time):\n",
    "    cost_of_e = 0 if prev_e and (e.line == prev_e.line) else 400\n",
    "    return cost_of_e\n",
    "\n",
    "\n",
    "def heuristic_func(u, v, e, id, prev_e, prev_id, current_time):\n",
    "    return e.distance / 6"
   ]
  },
  {
   "attachments": {},
   "cell_type": "markdown",
   "metadata": {},
   "source": [
    "Funkcja kosztu czasu oblicza różnicę między obecnym czasem a czasem dojazdu na dany przystanek w `sekundach`.\n",
    "Funkcja kosztu przesiadek nalicza wybrany koszt jeżeli linia została zmieniona. Wartość tego kosztu ma jedynie znaczenie w A*, a jej dobranie jest opisane poniżej."
   ]
  },
  {
   "attachments": {},
   "cell_type": "markdown",
   "metadata": {},
   "source": [
    "### A* - funkcja heurystyczna\n",
    "Jeżeli chodzi o funkcję heurystyczną, która jest wykorzystywana w algorytmie A*, to polega ona na prostym podzieleniu `odległości` pomiędzy dwoma przystankami przez przyjętą przeze mnie `średnią prędkość` komunikacji miejskiej zaokrągloną w górę. Obliczyłem ją następująco:"
   ]
  },
  {
   "cell_type": "code",
   "execution_count": 9,
   "metadata": {},
   "outputs": [
    {
     "name": "stdout",
     "output_type": "stream",
     "text": [
      "5.6723506771339505 m/s\n",
      "6 m/s\n"
     ]
    }
   ],
   "source": [
    "v_sum = 0\n",
    "i_sum = 0\n",
    "\n",
    "for edge in graph.edges:\n",
    "    dis = edge.distance\n",
    "    time = (edge.travel_times[0][1] - edge.travel_times[0][0]).seconds\n",
    "\n",
    "    if not (dis == 0 or time == 0):\n",
    "        v_sum += dis/time\n",
    "        i_sum += 1\n",
    "\n",
    "avg_velocity = v_sum/i_sum\n",
    "print(f'{avg_velocity} m/s')\n",
    "\n",
    "avg_velocity = round(avg_velocity)\n",
    "print(f'{avg_velocity} m/s')"
   ]
  },
  {
   "attachments": {},
   "cell_type": "markdown",
   "metadata": {},
   "source": [
    "Dobór prawidłowej wartości prędkości wpływa na wydajność algorytmu i sprawia, że kierunek przeszukiwania grafu jest popychany w prawidłową stronę. Wybranie perfekcyjnej wartości jest raczej nieosiągalne i uzależnione od innych zmiennych wpływających na wagę danego połączenia."
   ]
  },
  {
   "attachments": {},
   "cell_type": "markdown",
   "metadata": {},
   "source": [
    "### Metody pozwalające uruchomić konkretny rodzaj algorytmu wyszukiwania\n",
    "Możemy zauważyć, że tworzenie konkretnego algorytmu zoptymalizowanego pod wybrane kryterium jest bardzo proste:"
   ]
  },
  {
   "cell_type": "code",
   "execution_count": 10,
   "metadata": {},
   "outputs": [],
   "source": [
    "def run_dijkstra_time(start_stop, end_stop, start_time):\n",
    "    find_path(graph, start_stop, end_stop, start_time, cost_fun=time_cost_func)\n",
    "\n",
    "def run_dijkstra_transfers(start_stop, end_stop, start_time):\n",
    "    find_path(graph, start_stop, end_stop, start_time, cost_fun=transfer_cost_func)\n",
    "\n",
    "def run_a_star_time(start_stop, end_stop, start_time):\n",
    "    find_path(graph, start_stop, end_stop, start_time, cost_fun=time_cost_func, heuristic_func=heuristic_func)\n",
    "\n",
    "def run_a_star_transfers(start_stop, end_stop, start_time):\n",
    "    find_path(graph, start_stop, end_stop, start_time, cost_fun=transfer_cost_func, heuristic_func=heuristic_func)"
   ]
  },
  {
   "attachments": {},
   "cell_type": "markdown",
   "metadata": {},
   "source": [
    "---"
   ]
  },
  {
   "attachments": {},
   "cell_type": "markdown",
   "metadata": {},
   "source": [
    "# Zadanie 1\n",
    "\n",
    "### Dane testowe\n",
    "Do przetestowania poszczególnych algorytmów wykorzystałem poniższe dane:"
   ]
  },
  {
   "cell_type": "code",
   "execution_count": 11,
   "metadata": {},
   "outputs": [
    {
     "data": {
      "text/plain": [
       "14646.190246227028"
      ]
     },
     "execution_count": 11,
     "metadata": {},
     "output_type": "execute_result"
    }
   ],
   "source": [
    "start_stop = graph.nodes[\"Starościńska\"]\n",
    "end_stop = graph.nodes[\"Samotworska\"]\n",
    "start_time = base_date + timedelta(hours = 11,minutes= 24, seconds= 0)\n",
    "\n",
    "distance(start_stop, end_stop)"
   ]
  },
  {
   "attachments": {},
   "cell_type": "markdown",
   "metadata": {},
   "source": [
    "## Podpunkt (a) - Algorytm Dijksty w oparciu o kryterium czasu"
   ]
  },
  {
   "cell_type": "code",
   "execution_count": 12,
   "metadata": {},
   "outputs": [
    {
     "name": "stdout",
     "output_type": "stream",
     "text": [
      "shortest_path_algorithm() executed in 0.584910s\n",
      "\n",
      "Line 130: Starościńska (2024-03-08 11:27:00) -> Kamieńskiego (Szpital) (2024-03-08 11:31:00)\n",
      "Line K: Kamieńskiego (Szpital) (2024-03-08 11:31:00) -> Jutrosińska (2024-03-08 11:31:00)\n",
      "Line 130: Jutrosińska (2024-03-08 11:31:00) -> Mochnackiego (2024-03-08 11:33:00)\n",
      "Line K: Mochnackiego (2024-03-08 11:33:00) -> Kamieńskiego (2024-03-08 11:35:00)\n",
      "Line D: Kamieńskiego (2024-03-08 11:35:00) -> Broniewskiego (2024-03-08 11:37:00)\n",
      "Line 1: Broniewskiego (2024-03-08 11:37:00) -> DWORZEC NADODRZE (2024-03-08 11:42:00)\n",
      "Line 3: DWORZEC NADODRZE (2024-03-08 11:42:00) -> Dubois (2024-03-08 11:46:00)\n",
      "Line 13: Dubois (2024-03-08 11:46:00) -> PL. JANA PAWŁA II (2024-03-08 11:53:00)\n",
      "Line 3: PL. JANA PAWŁA II (2024-03-08 11:55:00) -> Młodych Techników (2024-03-08 11:57:00)\n",
      "Line 132: Młodych Techników (2024-03-08 11:57:00) -> Śrubowa (2024-03-08 12:00:00)\n",
      "Line 13: Śrubowa (2024-03-08 12:00:00) -> Strzegomska (krzyżówka) (2024-03-08 12:08:00)\n",
      "Line 107: Strzegomska (krzyżówka) (2024-03-08 12:08:00) -> Jerzmanowska nr 17 (2024-03-08 12:21:00)\n",
      "Line 129: Jerzmanowska nr 17 (2024-03-08 12:36:00) -> Jerzmanowo (Cmentarz I) (2024-03-08 12:39:00)\n",
      "Line 117: Jerzmanowo (Cmentarz I) (2024-03-08 12:39:00) -> Kośnego (Jerzmanowska) (2024-03-08 12:43:00)\n",
      "Line 142: Kośnego (Jerzmanowska) (2024-03-08 12:43:00) -> Jarnołtowska (Samotworska) (2024-03-08 12:45:00)\n",
      "Line 909: Jarnołtowska (Samotworska) (2024-03-08 12:59:00) -> Samotworska (2024-03-08 13:00:00)\n"
     ]
    },
    {
     "name": "stderr",
     "output_type": "stream",
     "text": [
      "\n",
      "Total cost: 5760\n",
      "Total time: 1:36:00\n",
      "Total stops: 43\n",
      "Total transfers: 15\n"
     ]
    }
   ],
   "source": [
    "run_dijkstra_time(start_stop, end_stop, start_time)"
   ]
  },
  {
   "attachments": {},
   "cell_type": "markdown",
   "metadata": {},
   "source": [
    "Egzekucja algorytmu trwała ok. 0.35s. Widzimy również cały harmonogram przejazdu - w kolejnych liniach informacje o kolejno wykorzystanych liniach komunikacyjnych (nazwa linii, czas i przystanek, na którym wsiadamy do danej linii komunikacyjnej oraz czas i przystanek, na którym kończymy korzystać z danej linii). Na dole znajują się również statystki podanej drogi."
   ]
  },
  {
   "attachments": {},
   "cell_type": "markdown",
   "metadata": {},
   "source": [
    "## Podpunkt (b) - Algorytm A* w oparciu o kryterium czasu"
   ]
  },
  {
   "cell_type": "code",
   "execution_count": 13,
   "metadata": {},
   "outputs": [
    {
     "name": "stdout",
     "output_type": "stream",
     "text": [
      "shortest_path_algorithm() executed in 0.587920s\n",
      "\n",
      "Line 130: Starościńska (2024-03-08 11:27:00) -> Kamieńskiego (Szpital) (2024-03-08 11:31:00)\n",
      "Line K: Kamieńskiego (Szpital) (2024-03-08 11:31:00) -> Jutrosińska (2024-03-08 11:31:00)\n",
      "Line 130: Jutrosińska (2024-03-08 11:31:00) -> Mochnackiego (2024-03-08 11:33:00)\n",
      "Line K: Mochnackiego (2024-03-08 11:33:00) -> Kamieńskiego (2024-03-08 11:35:00)\n",
      "Line D: Kamieńskiego (2024-03-08 11:35:00) -> Broniewskiego (2024-03-08 11:37:00)\n",
      "Line 1: Broniewskiego (2024-03-08 11:37:00) -> DWORZEC NADODRZE (2024-03-08 11:42:00)\n",
      "Line 3: DWORZEC NADODRZE (2024-03-08 11:42:00) -> Dubois (2024-03-08 11:46:00)\n",
      "Line 13: Dubois (2024-03-08 11:46:00) -> PL. JANA PAWŁA II (2024-03-08 11:53:00)\n",
      "Line 3: PL. JANA PAWŁA II (2024-03-08 11:55:00) -> Młodych Techników (2024-03-08 11:57:00)\n",
      "Line 132: Młodych Techników (2024-03-08 11:57:00) -> Śrubowa (2024-03-08 12:00:00)\n",
      "Line 13: Śrubowa (2024-03-08 12:00:00) -> Strzegomska (krzyżówka) (2024-03-08 12:08:00)\n",
      "Line 107: Strzegomska (krzyżówka) (2024-03-08 12:08:00) -> Jerzmanowska nr 17 (2024-03-08 12:21:00)\n",
      "Line 129: Jerzmanowska nr 17 (2024-03-08 12:36:00) -> Jerzmanowo (Cmentarz I) (2024-03-08 12:39:00)\n",
      "Line 117: Jerzmanowo (Cmentarz I) (2024-03-08 12:39:00) -> Kośnego (Jerzmanowska) (2024-03-08 12:43:00)\n",
      "Line 142: Kośnego (Jerzmanowska) (2024-03-08 12:43:00) -> Jarnołtowska (Samotworska) (2024-03-08 12:45:00)\n",
      "Line 909: Jarnołtowska (Samotworska) (2024-03-08 12:59:00) -> Samotworska (2024-03-08 13:00:00)\n"
     ]
    },
    {
     "name": "stderr",
     "output_type": "stream",
     "text": [
      "\n",
      "Total cost: 5760\n",
      "Total time: 1:36:00\n",
      "Total stops: 43\n",
      "Total transfers: 15\n"
     ]
    }
   ],
   "source": [
    "run_a_star_time(start_stop, end_stop, start_time)"
   ]
  },
  {
   "attachments": {},
   "cell_type": "markdown",
   "metadata": {},
   "source": [
    "Algorytm ten wykonuje się średnio o 0.02s szybciej od Dijkstry, przetestowałem różne funcje heurystyczne, ale głównie ta, którą wykorzystuję, daje najlepsze rezultaty. "
   ]
  },
  {
   "attachments": {},
   "cell_type": "markdown",
   "metadata": {},
   "source": [
    "## Podpunkt (c) - Algorytm A* w oparciu o kryterium przesiadek"
   ]
  },
  {
   "cell_type": "code",
   "execution_count": 14,
   "metadata": {},
   "outputs": [
    {
     "name": "stdout",
     "output_type": "stream",
     "text": [
      "shortest_path_algorithm() executed in 0.639074s\n",
      "\n",
      "Line 130: Starościńska (2024-03-08 11:27:00) -> Kamieńskiego (Szpital) (2024-03-08 11:31:00)\n",
      "Line K: Kamieńskiego (Szpital) (2024-03-08 11:31:00) -> Kamieńskiego (2024-03-08 12:02:00)\n",
      "Line 319: Kamieńskiego (2024-03-08 14:27:00) -> Bałtycka (2024-03-08 14:28:00)\n",
      "Line D: Bałtycka (2024-03-08 14:50:00) -> Rynek (2024-03-08 15:03:00)\n",
      "Line 3: Rynek (2024-03-08 15:03:00) -> LEŚNICA (2024-03-08 15:37:00)\n",
      "Line 117: LEŚNICA (2024-03-08 15:40:00) -> Kośnego (Jerzmanowska) (2024-03-08 16:40:00)\n",
      "Line 142: Kośnego (Jerzmanowska) (2024-03-08 16:41:00) -> Jarnołtowska (Samotworska) (2024-03-08 16:43:00)\n",
      "Line 909: Jarnołtowska (Samotworska) (2024-03-08 16:59:00) -> Samotworska (2024-03-08 17:00:00)\n"
     ]
    },
    {
     "name": "stderr",
     "output_type": "stream",
     "text": [
      "\n",
      "Total cost: 3200\n",
      "Total time: 5:36:00\n",
      "Total stops: 50\n",
      "Total transfers: 7\n"
     ]
    }
   ],
   "source": [
    "run_a_star_transfers(start_stop, end_stop, start_time)"
   ]
  },
  {
   "attachments": {},
   "cell_type": "markdown",
   "metadata": {},
   "source": [
    "Czas wykonywania nieco wzrósł względem kryterium czasu, ale wciąż daje zadowalające wyniki. Na tym przypadku możemy przetestować różne funkcje heurystyczne, które dadzą nam odpowiedź dlaczego wybrałem średnią prędkość komunikacji jako 6m/s."
   ]
  },
  {
   "cell_type": "code",
   "execution_count": 15,
   "metadata": {},
   "outputs": [
    {
     "name": "stdout",
     "output_type": "stream",
     "text": [
      "shortest_path_algorithm() executed in 0.614345s\n",
      "\n",
      "Line 130: Starościńska (2024-03-08 11:27:00) -> Kamieńskiego (Szpital) (2024-03-08 11:31:00)\n",
      "Line K: Kamieńskiego (Szpital) (2024-03-08 11:31:00) -> Kamieńskiego (2024-03-08 12:02:00)\n",
      "Line D: Kamieńskiego (2024-03-08 12:02:00) -> Zajezdnia Obornicka (2024-03-08 18:13:00)\n",
      "Line 101: Zajezdnia Obornicka (2024-03-08 18:15:00) -> Kwiska (2024-03-08 18:28:00)\n",
      "Line 3: Kwiska (2024-03-08 18:29:00) -> LEŚNICA (2024-03-08 18:50:00)\n",
      "Line 117: LEŚNICA (2024-03-08 18:55:00) -> Kośnego (Jerzmanowska) (2024-03-08 19:40:00)\n",
      "Line 142: Kośnego (Jerzmanowska) (2024-03-08 19:43:00) -> Jarnołtowska (Samotworska) (2024-03-08 19:45:00)\n",
      "Line 909: Jarnołtowska (Samotworska) (2024-03-08 20:56:00) -> Samotworska (2024-03-08 20:56:00)\n"
     ]
    },
    {
     "name": "stderr",
     "output_type": "stream",
     "text": [
      "\n",
      "Total cost: 3200\n",
      "Total time: 9:32:00\n",
      "Total stops: 47\n",
      "Total transfers: 7\n"
     ]
    }
   ],
   "source": [
    "def heuristic_func(u, v, e, id, prev_e, prev_id, current_time):\n",
    "    return e.distance / 7 # m/s\n",
    "\n",
    "find_path(graph, start_stop, end_stop, start_time, cost_fun=transfer_cost_func, heuristic_func=heuristic_func)"
   ]
  },
  {
   "cell_type": "code",
   "execution_count": 16,
   "metadata": {},
   "outputs": [
    {
     "name": "stdout",
     "output_type": "stream",
     "text": [
      "shortest_path_algorithm() executed in 0.612696s\n",
      "\n",
      "Line 130: Starościńska (2024-03-08 11:27:00) -> Kamieńskiego (Szpital) (2024-03-08 11:31:00)\n",
      "Line K: Kamieńskiego (Szpital) (2024-03-08 11:31:00) -> Kamieńskiego (2024-03-08 12:02:00)\n",
      "Line 319: Kamieńskiego (2024-03-08 14:27:00) -> Bałtycka (2024-03-08 14:28:00)\n",
      "Line 129: Bałtycka (2024-03-08 14:34:00) -> OSOBOWICKA (Cmentarz II) (2024-03-08 14:38:00)\n",
      "Line 104: OSOBOWICKA (Cmentarz II) (2024-03-08 14:38:00) -> most Milenijny (2024-03-08 14:40:00)\n",
      "Line 101: most Milenijny (2024-03-08 14:41:00) -> Kwiska (2024-03-08 14:48:00)\n",
      "Line 3: Kwiska (2024-03-08 14:48:00) -> LEŚNICA (2024-03-08 15:09:00)\n",
      "Line 117: LEŚNICA (2024-03-08 15:15:00) -> Kośnego (Jerzmanowska) (2024-03-08 15:50:00)\n",
      "Line 142: Kośnego (Jerzmanowska) (2024-03-08 15:56:00) -> Jarnołtowska (Samotworska) (2024-03-08 15:58:00)\n",
      "Line 909: Jarnołtowska (Samotworska) (2024-03-08 15:59:00) -> Samotworska (2024-03-08 16:00:00)\n"
     ]
    },
    {
     "name": "stderr",
     "output_type": "stream",
     "text": [
      "\n",
      "Total cost: 4000\n",
      "Total time: 4:36:00\n",
      "Total stops: 46\n",
      "Total transfers: 9\n"
     ]
    }
   ],
   "source": [
    "def heuristic_func(u, v, e, id, prev_e, prev_id, current_time):\n",
    "    return e.distance / 4 # m/s\n",
    "\n",
    "find_path(graph, start_stop, end_stop, start_time, cost_fun=transfer_cost_func, heuristic_func=heuristic_func)"
   ]
  },
  {
   "attachments": {},
   "cell_type": "markdown",
   "metadata": {},
   "source": [
    "Jak możemy zauważyć wynik nie jest możliwe optymalny (więcej przesiadek, któtszy czas, lub mniej przesiadek, ale dużo dłuższy czas), a także czas wykonywania funkcji wzrósł. Dlatego też najoptymalniejszą prędkością wydaje się być 6m/s."
   ]
  },
  {
   "attachments": {},
   "cell_type": "markdown",
   "metadata": {},
   "source": [
    "## Podpunkt (d) - Algorytm A* z modyfikacją\n",
    "Jako modyfikację algorytmu A* postanowiłem połączyć kryterium czasu i przesiadek, aby możliwie bardzo go zoptymalizować. Znów elastyczność głównej metody algorytmu mi to ułatwi. Zdefiniowałem następujące funkcje kosztu i heurystykę, a następnie po kilku testach wybrałem najbardziej optymalne wartości."
   ]
  },
  {
   "cell_type": "code",
   "execution_count": 17,
   "metadata": {},
   "outputs": [],
   "source": [
    "def time_cost_func(u, v, e, id, prev_e, prev_id, current_time):\n",
    "    cost_of_e = e.travel_times[id][1] - current_time\n",
    "    if cost_of_e < timedelta():\n",
    "        cost_of_e += timedelta(days=1)\n",
    "\n",
    "    return cost_of_e.seconds\n",
    "\n",
    "def transfer_cost_func(u, v, e, id, prev_e, prev_id, current_time):\n",
    "    cost_of_e = 0 if prev_e and (e.line == prev_e.line) else 600\n",
    "    return cost_of_e\n",
    "\n",
    "\n",
    "def heuristic_func(u, v, e, id, prev_e, prev_id, current_time):\n",
    "    return e.distance / 6"
   ]
  },
  {
   "cell_type": "code",
   "execution_count": 20,
   "metadata": {},
   "outputs": [
    {
     "name": "stdout",
     "output_type": "stream",
     "text": [
      "shortest_path_algorithm() executed in 0.480701s\n",
      "\n",
      "Line 130: Starościńska (2024-03-08 11:27:00) -> Kamieńskiego (Szpital) (2024-03-08 11:31:00)\n",
      "Line K: Kamieńskiego (Szpital) (2024-03-08 11:31:00) -> Jutrosińska (2024-03-08 11:31:00)\n",
      "Line 130: Jutrosińska (2024-03-08 11:31:00) -> Mochnackiego (2024-03-08 11:33:00)\n",
      "Line K: Mochnackiego (2024-03-08 11:33:00) -> Kamieńskiego (2024-03-08 11:35:00)\n",
      "Line D: Kamieńskiego (2024-03-08 11:35:00) -> Broniewskiego (2024-03-08 11:37:00)\n",
      "Line 1: Broniewskiego (2024-03-08 11:37:00) -> DWORZEC NADODRZE (2024-03-08 11:42:00)\n",
      "Line 3: DWORZEC NADODRZE (2024-03-08 11:42:00) -> Kosmonautów (Szpital) (2024-03-08 12:25:00)\n",
      "Line 107: Kosmonautów (Szpital) (2024-03-08 12:43:00) -> Jerzmanowska nr 17 (2024-03-08 12:47:00)\n",
      "Line 129: Jerzmanowska nr 17 (2024-03-08 12:50:00) -> Jerzmanowo (Cmentarz I) (2024-03-08 12:53:00)\n",
      "Line 117: Jerzmanowo (Cmentarz I) (2024-03-08 12:53:00) -> Kośnego (Jerzmanowska) (2024-03-08 12:57:00)\n",
      "Line 142: Kośnego (Jerzmanowska) (2024-03-08 12:57:00) -> Jarnołtowska (Samotworska) (2024-03-08 12:59:00)\n",
      "Line 909: Jarnołtowska (Samotworska) (2024-03-08 12:59:00) -> Samotworska (2024-03-08 13:00:00)\n"
     ]
    },
    {
     "name": "stderr",
     "output_type": "stream",
     "text": [
      "\n",
      "Total cost: 12960\n",
      "Total time: 1:36:00\n",
      "Total stops: 43\n",
      "Total transfers: 11\n"
     ]
    }
   ],
   "source": [
    "find_path(graph, start_stop, end_stop, start_time, cost_fun=time_cost_func, cost_fun2=transfer_cost_func, heuristic_func=heuristic_func)"
   ]
  },
  {
   "attachments": {},
   "cell_type": "markdown",
   "metadata": {},
   "source": [
    "Koszt czasu i funkcja heurystyczna wydają mi się najbardziej zoptymalizowane, dlatego skupiłem się głównie na koszcie przesiadek. Po kilku przeprowadzonych testach wartość tą ustaliłem na 600. To z kolei wpłynęło na algorytm bardzo pozytywnie. Czas trwania algorytmu pomimo dodatkowych obliczeń nie wzrósł, a otrzymane wyniki zapewniły najlepszą możliwie drogę z minimalną ilością przesiadek oraz najkrótszym czasem podróży."
   ]
  },
  {
   "attachments": {},
   "cell_type": "markdown",
   "metadata": {},
   "source": [
    "## Główny program z wczytywaniem danych ze standardowego wejścia\n",
    "Napisałem poniższą metodę, która działa zgodnie z wymaganiami w instrukcji - dodałem jedynie jeszcze możliwość wyboru algorytmu."
   ]
  },
  {
   "cell_type": "code",
   "execution_count": 21,
   "metadata": {},
   "outputs": [
    {
     "name": "stdout",
     "output_type": "stream",
     "text": [
      "a-t: 12:23:23 Tyrmanda -> FAT\n",
      "shortest_path_algorithm() executed in 0.033080s\n",
      "\n",
      "Line 107: Tyrmanda (2024-03-08 12:25:00) -> FAT (2024-03-08 12:37:00)\n"
     ]
    },
    {
     "name": "stderr",
     "output_type": "stream",
     "text": [
      "\n",
      "Total cost: 817\n",
      "Total time: 0:13:37\n",
      "Total stops: 8\n",
      "Total transfers: 0\n"
     ]
    }
   ],
   "source": [
    "def run():\n",
    "    start_stop = graph.nodes[input(\"Podaj przystanek początkowy: \")]\n",
    "    end_stop = graph.nodes[input(\"Podaj przystanek końcowy: \")]\n",
    "    start_time_str_raw = input(\"Podaj czas pojawienia się na przystanku początkowym (format HH:MM:SS): \")\n",
    "    start_time_str = start_time_str_raw.split(sep=\":\")\n",
    "    start_time = base_date + timedelta(hours=int(start_time_str[0]), minutes=int(start_time_str[1]), seconds=int(start_time_str[2]))\n",
    "    algorithm = input(\"Wybierz algorytm (d - dijkstra, a - astar): \")\n",
    "    criterion = input(\"Podaj kryterium optymalizacji (t - czas, p - liczba przesiadek): \")\n",
    "\n",
    "    print(f'{algorithm}-{criterion}: {(start_time_str_raw)} {start_stop.name} -> {end_stop.name}')\n",
    "\n",
    "\n",
    "    if criterion == \"t\":\n",
    "        if algorithm == \"d\":\n",
    "            run_dijkstra_time(start_stop, end_stop, start_time)\n",
    "        elif algorithm == \"a\":\n",
    "            run_a_star_time(start_stop, end_stop, start_time)\n",
    "        else: \n",
    "            print(\"Podano nieprawidłowy algorytm!\")\n",
    "    elif criterion == \"p\":\n",
    "        if algorithm == \"d\":\n",
    "            run_dijkstra_transfers(start_stop, end_stop, start_time)\n",
    "        elif algorithm == \"a\":\n",
    "            run_a_star_transfers(start_stop, end_stop, start_time)\n",
    "        else: \n",
    "            print(\"Podano nieprawidłowy algorytm!\")\n",
    "    else:\n",
    "        print(\"Podano nieprawidłowe kryterium!\")\n",
    "\n",
    "run()"
   ]
  }
 ],
 "metadata": {
  "authors": [
   {
    "name": "Adam Mikołajczyk 266865"
   }
  ],
  "kernelspec": {
   "display_name": "Python 3",
   "language": "python",
   "name": "python3"
  },
  "language_info": {
   "codemirror_mode": {
    "name": "ipython",
    "version": 3
   },
   "file_extension": ".py",
   "mimetype": "text/x-python",
   "name": "python",
   "nbconvert_exporter": "python",
   "pygments_lexer": "ipython3",
   "version": "3.12.1"
  },
  "orig_nbformat": 4,
  "title": "Sztuczna inteligencja i inżynieria wiedzy\nLista 1"
 },
 "nbformat": 4,
 "nbformat_minor": 2
}
